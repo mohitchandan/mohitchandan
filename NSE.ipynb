{
  "nbformat": 4,
  "nbformat_minor": 0,
  "metadata": {
    "colab": {
      "provenance": [],
      "authorship_tag": "ABX9TyMVZPF3/kELdcpZYQw+D3JL",
      "include_colab_link": true
    },
    "kernelspec": {
      "name": "python3",
      "display_name": "Python 3"
    },
    "language_info": {
      "name": "python"
    }
  },
  "cells": [
    {
      "cell_type": "markdown",
      "metadata": {
        "id": "view-in-github",
        "colab_type": "text"
      },
      "source": [
        "<a href=\"https://colab.research.google.com/github/mohitchandan/mohitchandan/blob/main/NSE.ipynb\" target=\"_parent\"><img src=\"https://colab.research.google.com/assets/colab-badge.svg\" alt=\"Open In Colab\"/></a>"
      ]
    },
    {
      "cell_type": "code",
      "execution_count": 5,
      "metadata": {
        "colab": {
          "base_uri": "https://localhost:8080/"
        },
        "id": "eUR1GKK_t6z3",
        "outputId": "50b689e4-8395-419e-d499-4b59fd48215a"
      },
      "outputs": [
        {
          "output_type": "stream",
          "name": "stdout",
          "text": [
            "               Open      High       Low     Close     Volume      Turnover\n",
            "Date                                                                      \n",
            "2023-01-09  42093.3  42244.00  41906.90  42179.75  164744610  4.926660e+10\n",
            "2023-01-10  42250.0  42256.65  41700.55  42026.30  179106186  5.032750e+10\n"
          ]
        }
      ],
      "source": [
        "#pip install nsepy\n",
        "from datetime import date\n",
        "from nsepy import get_history\n",
        "nifty_next50 = get_history(symbol=\"NIFTY NEXT 50\",\n",
        "                            start=date(2023,1,8),\n",
        "                            end=date(2023,1,10),\n",
        "                            index=True)\n",
        "print(nifty_next50)"
      ]
    },
    {
      "cell_type": "code",
      "source": [],
      "metadata": {
        "id": "hjayNJM8Ul8Q"
      },
      "execution_count": null,
      "outputs": []
    }
  ]
}