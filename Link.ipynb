{
  "nbformat": 4,
  "nbformat_minor": 0,
  "metadata": {
    "colab": {
      "provenance": [],
      "authorship_tag": "ABX9TyMUjCx8XipjZHQ3JA/nyJQg",
      "include_colab_link": true
    },
    "kernelspec": {
      "name": "python3",
      "display_name": "Python 3"
    },
    "language_info": {
      "name": "python"
    }
  },
  "cells": [
    {
      "cell_type": "markdown",
      "metadata": {
        "id": "view-in-github",
        "colab_type": "text"
      },
      "source": [
        "<a href=\"https://colab.research.google.com/github/mohitchandan/mohitchandan/blob/main/Link.ipynb\" target=\"_parent\"><img src=\"https://colab.research.google.com/assets/colab-badge.svg\" alt=\"Open In Colab\"/></a>"
      ]
    },
    {
      "cell_type": "code",
      "execution_count": 13,
      "metadata": {
        "colab": {
          "base_uri": "https://localhost:8080/"
        },
        "id": "Jp9_Gj6oxzPK",
        "outputId": "c503199c-d234-4663-f301-cb3f7dd0b9b5"
      },
      "outputs": [
        {
          "output_type": "stream",
          "name": "stdout",
          "text": [
            "Please copy the URL and paste it in browser for getting authentication code\n",
            "\n",
            "https://www.linkedin.com/uas/login?session_redirect=%2Foauth%2Fv2%2Flogin-success%3Fapp_id%3D207868151%26auth_type%3DAC%26flow%3D%257B%2522scope%2522%253A%2522r_liteprofile%2522%252C%2522appId%2522%253A207868151%252C%2522authorizationType%2522%253A%2522OAUTH2_AUTHORIZATION_CODE%2522%252C%2522currentStage%2522%253A%2522LOGIN_SUCCESS%2522%252C%2522currentSubStage%2522%253A0%252C%2522authFlowName%2522%253A%2522generic-permission-list%2522%252C%2522creationTime%2522%253A1673374033075%252C%2522redirectUri%2522%253A%2522http%253A%252F%252Flocalhost%252F%2522%257D&fromSignIn=1&trk=oauth&cancel_redirect=%2Foauth%2Fv2%2Flogin-cancel%3Fapp_id%3D207868151%26auth_type%3DAC%26flow%3D%257B%2522scope%2522%253A%2522r_liteprofile%2522%252C%2522appId%2522%253A207868151%252C%2522authorizationType%2522%253A%2522OAUTH2_AUTHORIZATION_CODE%2522%252C%2522currentStage%2522%253A%2522LOGIN_SUCCESS%2522%252C%2522currentSubStage%2522%253A0%252C%2522authFlowName%2522%253A%2522generic-permission-list%2522%252C%2522creationTime%2522%253A1673374033075%252C%2522redirectUri%2522%253A%2522http%253A%252F%252Flocalhost%252F%2522%257D\n"
          ]
        }
      ],
      "source": [
        "import requests\n",
        "\n",
        "\n",
        "#get access_token by post with user & password\n",
        "#Step 1 - GET to request for authentication\n",
        "def get_auth_link():\n",
        "    URL = \"https://www.linkedin.com/oauth/v2/authorization\"\n",
        "    client_id=\"XXX\"\n",
        "    redirect_uri = 'http://localhost/'\n",
        "    scope='r_liteprofile'\n",
        "    PARAMS = {'response_type':'code', 'client_id':client_id,  'redirect_uri':redirect_uri, 'scope':scope}\n",
        "    r = requests.get(url = URL, params = PARAMS)\n",
        "    return_url = r.url\n",
        "    print('Please copy the URL and paste it in browser for getting authentication code')\n",
        "    print('')\n",
        "    print(return_url)\n",
        "\n",
        "get_auth_link()\n"
      ]
    },
    {
      "cell_type": "code",
      "source": [
        "import requests\n",
        "import json\n",
        "\n",
        "def get_access_token():\n",
        "    headers = {'Content-Type': 'application/x-www-form-urlencoded', 'User-Agent': 'OAuth gem v0.4.4'}\n",
        "    AUTH_CODE = \"AQTVKqgaTd2-XooEqFIOTAWRZxuq2UPjFZ47AKdjZuIfyXw3Cy2z8w2XeI6UeIlYy0tqCXLK9CGBA7OeEgOK24d7nNTe3AFLSRaQ1NWJF74HeiGnu0qGVAsyImmtVnFo_6qj0GMONAHgCn-atZo45ZXj6lR-38uXjZGOWmEKUPCvSRv_rm-JRCuMjc-bg2_AOkkIi7-hQVzJ1HT3s24\"\n",
        "    ACCESS_TOKEN_URL = 'https://www.linkedin.com/oauth/v2/accessToken'\n",
        "    client_id=\"XXX\"\n",
        "    client_secret=\"XXX\"\n",
        "    redirect_uri = 'http://localhost/'\n",
        "    PARAM = {'grant_type': 'authorization_code',\n",
        "      'code': AUTH_CODE,\n",
        "      'redirect_uri': redirect_uri,\n",
        "      'client_id': client_id,\n",
        "      'client_secret': client_secret}\n",
        "    response = requests.post(ACCESS_TOKEN_URL, data=PARAM, headers=headers, timeout=600)\n",
        "    data = response.json()\n",
        "    print(data)\n",
        "    access_token = data['access_token']\n",
        "    return access_token\n",
        "\n",
        "get_access_token()"
      ],
      "metadata": {
        "colab": {
          "base_uri": "https://localhost:8080/",
          "height": 90
        },
        "id": "Gky8YFn5x1Lj",
        "outputId": "a255d7fc-b65e-4e00-c241-6d27616edef0"
      },
      "execution_count": 14,
      "outputs": [
        {
          "output_type": "stream",
          "name": "stdout",
          "text": [
            "{'access_token': 'AQWEFUJmXoATBybb88t8pIdyxRSSePRVodzwiuVu2h6XUZ29xI3hfnWopkUf1i__XaGCAczJ7wnAmHq-BXJa-bi59yZehzhyjkNHLfE9n5rObRT6SHHvsjq4VxNVdcJYcepQOxkTVTvLRNmzsheEbtaAg8FbR8zqTXV1LR3OIlfq5kg40fW78mWq_jyQfi6QRM7T0PMEV_2RXlWpKQH-hen8U9xa9r7DIn11TQ4jopZqh6YpZ9Jc3o2ngUrzc2SuyQu0oGX3RnJlLzOcExEMmlncYpPFVaiHtNS24DgTwqCRSfYIXZftNMop4Wdzz9DHGp9oXlvRBsF4YLaXHUiMtq9skhnoVQ', 'expires_in': 5183999, 'scope': 'r_liteprofile'}\n"
          ]
        },
        {
          "output_type": "execute_result",
          "data": {
            "text/plain": [
              "'AQWEFUJmXoATBybb88t8pIdyxRSSePRVodzwiuVu2h6XUZ29xI3hfnWopkUf1i__XaGCAczJ7wnAmHq-BXJa-bi59yZehzhyjkNHLfE9n5rObRT6SHHvsjq4VxNVdcJYcepQOxkTVTvLRNmzsheEbtaAg8FbR8zqTXV1LR3OIlfq5kg40fW78mWq_jyQfi6QRM7T0PMEV_2RXlWpKQH-hen8U9xa9r7DIn11TQ4jopZqh6YpZ9Jc3o2ngUrzc2SuyQu0oGX3RnJlLzOcExEMmlncYpPFVaiHtNS24DgTwqCRSfYIXZftNMop4Wdzz9DHGp9oXlvRBsF4YLaXHUiMtq9skhnoVQ'"
            ],
            "application/vnd.google.colaboratory.intrinsic+json": {
              "type": "string"
            }
          },
          "metadata": {},
          "execution_count": 14
        }
      ]
    },
    {
      "cell_type": "code",
      "source": [
        "access_token= 'AQWEFUJmXoATBybb88t8pIdyxRSSePRVodzwiuVu2h6XUZ29xI3hfnWopkUf1i__XaGCAczJ7wnAmHq-BXJa-bi59yZehzhyjkNHLfE9n5rObRT6SHHvsjq4VxNVdcJYcepQOxkTVTvLRNmzsheEbtaAg8FbR8zqTXV1LR3OIlfq5kg40fW78mWq_jyQfi6QRM7T0PMEV_2RXlWpKQH-hen8U9xa9r7DIn11TQ4jopZqh6YpZ9Jc3o2ngUrzc2SuyQu0oGX3RnJlLzOcExEMmlncYpPFVaiHtNS24DgTwqCRSfYIXZftNMop4Wdzz9DHGp9oXlvRBsF4YLaXHUiMtq9skhnoVQ'\n",
        "def get_profile(access_token):\n",
        "    URL = \"https://api.linkedin.com/v2/me\"\n",
        "    headers = {'Content-Type': 'application/x-www-form-urlencoded','Authorization':'Bearer {}'.format(access_token),'X-Restli-Protocol-Version':'2.0.0'}\n",
        "    response = requests.get(url=URL, headers=headers)\n",
        "    print(response.json())\n",
        "\n",
        "get_profile(access_token)"
      ],
      "metadata": {
        "colab": {
          "base_uri": "https://localhost:8080/"
        },
        "id": "6pgRfz4S2485",
        "outputId": "4984a0b6-315a-4e5c-beda-de5fb3bbe735"
      },
      "execution_count": 16,
      "outputs": [
        {
          "output_type": "stream",
          "name": "stdout",
          "text": [
            "{'localizedLastName': 'Agile PM, DevOps, App Security, Azure', 'profilePicture': {'displayImage': 'urn:li:digitalmediaAsset:C4D03AQG7p7GGG5LVnQ'}, 'firstName': {'localized': {'en_US': 'Mohit Chandan-'}, 'preferredLocale': {'country': 'US', 'language': 'en'}}, 'lastName': {'localized': {'en_US': 'Agile PM, DevOps, App Security, Azure'}, 'preferredLocale': {'country': 'US', 'language': 'en'}}, 'id': '3t0d_m2m2-', 'localizedFirstName': 'Mohit Chandan-'}\n"
          ]
        }
      ]
    },
    {
      "cell_type": "code",
      "source": [],
      "metadata": {
        "id": "7jilDW1R37bN"
      },
      "execution_count": null,
      "outputs": []
    }
  ]
}